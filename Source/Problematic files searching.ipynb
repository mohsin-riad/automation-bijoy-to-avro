{
 "cells": [
  {
   "cell_type": "code",
   "execution_count": 7,
   "id": "1a684330",
   "metadata": {},
   "outputs": [],
   "source": [
    "import pandas as pd\n",
    "from bijoytounicode import bijoy2unicode\n",
    "import docx\n",
    "import re  \n",
    "import os"
   ]
  },
  {
   "cell_type": "code",
   "execution_count": 19,
   "id": "1435a015",
   "metadata": {},
   "outputs": [
    {
     "name": "stdout",
     "output_type": "stream",
     "text": [
      "/Users/mohsinriad/Documents/MyUniverse/ML-DL/Thesis/Unannotated/.DS_Store\n",
      "/Users/mohsinriad/Documents/MyUniverse/ML-DL/Thesis/Unannotated/Ad. Suvashis Sharma/Thumbs.db\n",
      "/Users/mohsinriad/Documents/MyUniverse/ML-DL/Thesis/Unannotated/Ad. Suvashis Sharma/.DS_Store\n",
      "/Users/mohsinriad/Documents/MyUniverse/ML-DL/Thesis/Unannotated/Ad. Suvashis Sharma/received_1647301865340233.jpeg\n",
      "/Users/mohsinriad/Documents/MyUniverse/ML-DL/Thesis/Unannotated/From_Rahat/.DS_Store\n",
      "/Users/mohsinriad/Documents/MyUniverse/ML-DL/Thesis/Unannotated/From_Rahat/Holof Nama/.DS_Store\n",
      "/Users/mohsinriad/Documents/MyUniverse/ML-DL/Thesis/Unannotated/From_Rahat/@Court Documenta 4/.DS_Store\n",
      "/Users/mohsinriad/Documents/MyUniverse/ML-DL/Thesis/Unannotated/From_Rahat/@Court Documenta 4/Personal Documents/Daily works amount.xls\n",
      "/Users/mohsinriad/Documents/MyUniverse/ML-DL/Thesis/Unannotated/From_Rahat/@Court Documenta 4/315-Room-Norul Islam Room-/TPA (Sanmar) Zahid Hossain.rtf\n",
      "/Users/mohsinriad/Documents/MyUniverse/ML-DL/Thesis/Unannotated/From_Rahat/@Court Documenta 4/60 No. Ad. Main Uddin Ahmed/Scrap.shs\n",
      "/Users/mohsinriad/Documents/MyUniverse/ML-DL/Thesis/Unannotated/From_Rahat/@Court Documenta 4/BIO-DATA/CURRICULUM VITAE-Murshed Alam Tarik.rtf\n",
      "/Users/mohsinriad/Documents/MyUniverse/ML-DL/Thesis/Unannotated/From_Rahat/@Court Documenta 4/BIO-DATA/Recent C.V.-Tanmoy Chakraborty.rtf\n",
      "/Users/mohsinriad/Documents/MyUniverse/ML-DL/Thesis/Unannotated/From_Rahat/@Court Documenta 4/18 No. Dokan Ovishek Roy/pp4.jpg\n",
      "/Users/mohsinriad/Documents/MyUniverse/ML-DL/Thesis/Unannotated/From_Rahat/@Court Documenta 4/18 No. Dokan Ovishek Roy/pp3.jpg\n",
      "/Users/mohsinriad/Documents/MyUniverse/ML-DL/Thesis/Unannotated/From_Rahat/@Court Documenta 4/18 No. Dokan Ovishek Roy/pp2.jpg\n",
      "/Users/mohsinriad/Documents/MyUniverse/ML-DL/Thesis/Unannotated/From_Rahat/@Court Documenta 4/18 No. Dokan Ovishek Roy/pp1.jpg\n",
      "/Users/mohsinriad/Documents/MyUniverse/ML-DL/Thesis/Unannotated/From_Rahat/@Court Documenta 4/Z@Mixed@ 2/265 NOMAN PACKING COMPLEX LIMITED vs abdur razzak 13-03-13.DOC\n",
      "/Users/mohsinriad/Documents/MyUniverse/ML-DL/Thesis/Unannotated/From_Rahat/@Court Documenta 4/2 No. Bar Ad. Altaf/.DS_Store\n",
      "/Users/mohsinriad/Documents/MyUniverse/ML-DL/Thesis/Unannotated/From_Rahat/Notice-/.DS_Store\n",
      "/Users/mohsinriad/Documents/MyUniverse/ML-DL/Thesis/Unannotated/From_Rahat/Halof nama/Mares Notare/Nikah Form.ai\n",
      "/Users/mohsinriad/Documents/MyUniverse/ML-DL/Thesis/Unannotated/From_Rahat/Halof nama/Mares Notare/Notice.ai\n",
      "/Users/mohsinriad/Documents/MyUniverse/ML-DL/Thesis/Unannotated/From_Rahat/98/.DS_Store\n",
      "/Users/mohsinriad/Documents/MyUniverse/ML-DL/Thesis/Unannotated/From_Rahat/Z@Mixed@/Desktop.ini\n",
      "/Users/mohsinriad/Documents/MyUniverse/ML-DL/Thesis/Unannotated/From_Rahat/@Apply_folde/.DS_Store\n",
      "/Users/mohsinriad/Documents/MyUniverse/ML-DL/Thesis/Unannotated/From_Rahat/@Apply_folde/C.R. _ APOR MAMLA/.DS_Store\n",
      "/Users/mohsinriad/Documents/MyUniverse/ML-DL/Thesis/Unannotated/Ad. Arpan Ghose/.DS_Store\n"
     ]
    }
   ],
   "source": [
    "directory = '/Users/mohsinriad/Documents/MyUniverse/ML-DL/Thesis/Unannotated'\n",
    " \n",
    "# iterate over files in this directory\n",
    "for root, dirs, files in os.walk(directory):\n",
    "    for filename in files:\n",
    "        if not filename.endswith(\".doc\"):\n",
    "            if not filename.endswith(\".docx\"):\n",
    "                print(os.path.join(root, filename))\n",
    "#             break"
   ]
  },
  {
   "cell_type": "code",
   "execution_count": null,
   "id": "4b71194b",
   "metadata": {},
   "outputs": [],
   "source": []
  },
  {
   "cell_type": "code",
   "execution_count": null,
   "id": "af5e2b22",
   "metadata": {},
   "outputs": [],
   "source": []
  }
 ],
 "metadata": {
  "kernelspec": {
   "display_name": "Python 3 (ipykernel)",
   "language": "python",
   "name": "python3"
  },
  "language_info": {
   "codemirror_mode": {
    "name": "ipython",
    "version": 3
   },
   "file_extension": ".py",
   "mimetype": "text/x-python",
   "name": "python",
   "nbconvert_exporter": "python",
   "pygments_lexer": "ipython3",
   "version": "3.9.7"
  }
 },
 "nbformat": 4,
 "nbformat_minor": 5
}

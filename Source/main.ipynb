{
 "cells": [
  {
   "cell_type": "markdown",
   "id": "f8380a46",
   "metadata": {},
   "source": [
    "# Bijoy to Unicode(Avro) Automation"
   ]
  },
  {
   "cell_type": "markdown",
   "id": "16bdf25b",
   "metadata": {},
   "source": [
    ">    MIT License\n",
    "\n",
    "    Copyright (c) 2022 Mohsin Riad\n",
    "\n",
    "    Permission is hereby granted, free of charge, to any person obtaining a copy of this software and associated documentation files (the \"Software\"), to deal in the Software without restriction, including without limitation the rights to use, copy, modify, merge, publish, distribute, sublicense, and/or sell copies of the Software, and to permit persons to whom the Software is furnished to do so, subject to the following conditions: The above copyright notice and this permission notice shall be included in all copies or substantial portions of the Software.\n",
    "\n",
    "    THE SOFTWARE IS PROVIDED \"AS IS\", WITHOUT WARRANTY OF ANY KIND, EXPRESS OR IMPLIED, INCLUDING BUT NOT LIMITED TO THE WARRANTIES OF MERCHANTABILITY, FITNESS FOR A PARTICULAR PURPOSE AND NONINFRINGEMENT. IN NO EVENT SHALL THE AUTHORS OR COPYRIGHT HOLDERS BE LIABLE FOR ANY CLAIM, DAMAGES OR OTHER LIABILITY, WHETHER IN AN ACTION OF CONTRACT, TORT OR OTHERWISE, ARISING FROM, OUT OF OR IN CONNECTION WITH THE SOFTWARE OR THE USE OR OTHER DEALINGS IN THE SOFTWARE."
   ]
  },
  {
   "cell_type": "markdown",
   "id": "a0cd2eb7",
   "metadata": {},
   "source": [
    "## Required package installation"
   ]
  },
  {
   "cell_type": "code",
   "execution_count": null,
   "id": "58dbae74",
   "metadata": {},
   "outputs": [],
   "source": [
    "# for one time installation\n",
    "# !pip install bijoytounicode\n",
    "# !pip install python-docx"
   ]
  },
  {
   "cell_type": "markdown",
   "id": "1fa6893b",
   "metadata": {},
   "source": [
    "## Importing Required Library"
   ]
  },
  {
   "cell_type": "code",
   "execution_count": null,
   "id": "c872d728",
   "metadata": {},
   "outputs": [],
   "source": [
    "from bijoytounicode import bijoy2unicode\n",
    "import docx\n",
    "import re  \n",
    "import os"
   ]
  },
  {
   "cell_type": "markdown",
   "id": "6f86dbd3",
   "metadata": {},
   "source": [
    "## Methods"
   ]
  },
  {
   "cell_type": "markdown",
   "id": "cec2977d",
   "metadata": {},
   "source": [
    "### Doc to Docx"
   ]
  },
  {
   "cell_type": "code",
   "execution_count": null,
   "id": "445889ac",
   "metadata": {},
   "outputs": [],
   "source": [
    "# Bash commands are tested on Mac Os\n",
    "def covertDoc2Docx(path):\n",
    "    #alternative to cd path\n",
    "    os.chdir(path)\n",
    "    #Doc to Docx conversion\n",
    "    !textutil -convert docx *.doc\n",
    "    #Deletion of .doc files\n",
    "    !rm *.doc"
   ]
  },
  {
   "cell_type": "markdown",
   "id": "184d1097",
   "metadata": {},
   "source": [
    "### Creating Files/Directories"
   ]
  },
  {
   "cell_type": "code",
   "execution_count": null,
   "id": "e5e81e4a",
   "metadata": {},
   "outputs": [],
   "source": [
    "def createFile(filename, page):\n",
    "    folderName = filename.stripe().split('/')[-1] # to get the folder name\n",
    "    filename = filename.replace(folderName, \"mod-\"+folderName) # replace folder name \n",
    "    filename = filename.replace(\"docx\", \"txt\") # conversion of docx to txt\n",
    "    os.makedirs(os.path.dirname(filename), exist_ok=True) #  create folder if it doesnt exist which is starting with mod-*\n",
    "    with open(filename, \"w\") as f: # iterate over every directory it gets and write .txt  files \n",
    "        f.write(page)"
   ]
  },
  {
   "cell_type": "markdown",
   "id": "f7e6bc3b",
   "metadata": {},
   "source": [
    "### Ansi to unicode"
   ]
  },
  {
   "cell_type": "code",
   "execution_count": null,
   "id": "91894254",
   "metadata": {},
   "outputs": [],
   "source": [
    "def convertToUnicode(path):\n",
    "    document =  docx.Document(path) # to get the data from Docx document\n",
    "    line = \"\"\n",
    "    for paragraph in document.paragraphs: # iterate over every Docx file and covert ANSI to UNICODE \n",
    "        line += bijoy2unicode(paragraph.text)+'\\n'\n",
    "    createFile(path, line) # path and UNICODED string being passed to create txt file"
   ]
  },
  {
   "cell_type": "markdown",
   "id": "7df3248c",
   "metadata": {},
   "source": [
    "## Driver Code"
   ]
  },
  {
   "cell_type": "code",
   "execution_count": null,
   "id": "4d64d575",
   "metadata": {},
   "outputs": [],
   "source": [
    "directory = input('Target Directory Path: ')\n",
    "# /Users/mohsinriad/Documents/MyUniverse/ML-DL/Thesis/Unannotated   >>testing target path"
   ]
  },
  {
   "cell_type": "markdown",
   "id": "6d2f49c0",
   "metadata": {},
   "source": [
    "## Conversion of File Format (doc to docx)"
   ]
  },
  {
   "cell_type": "markdown",
   "id": "6178ec50",
   "metadata": {},
   "source": [
    "> Dont run this if files are already in .docx format"
   ]
  },
  {
   "cell_type": "code",
   "execution_count": null,
   "id": "46553216",
   "metadata": {},
   "outputs": [],
   "source": [
    "# iterate over files in this directory\n",
    "for root, dirs, files in os.walk(directory):\n",
    "    for filename in files:\n",
    "        if filename.endswith(\".doc\"):\n",
    "            covertDoc2Docx(root)\n",
    "            break"
   ]
  },
  {
   "cell_type": "markdown",
   "id": "62448796",
   "metadata": {},
   "source": [
    "## Conversion of Text Format "
   ]
  },
  {
   "cell_type": "code",
   "execution_count": null,
   "id": "6f523fb9",
   "metadata": {},
   "outputs": [],
   "source": [
    "for root, dirs, files in os.walk(directory):\n",
    "    for filename in files:\n",
    "        if filename.endswith(\".docx\"):\n",
    "            convertToUnicode(os.path.join(root, filename))        "
   ]
  },
  {
   "cell_type": "markdown",
   "id": "ebae2c9d",
   "metadata": {},
   "source": [
    "> # End"
   ]
  }
 ],
 "metadata": {
  "kernelspec": {
   "display_name": "Python 3 (ipykernel)",
   "language": "python",
   "name": "python3"
  },
  "language_info": {
   "codemirror_mode": {
    "name": "ipython",
    "version": 3
   },
   "file_extension": ".py",
   "mimetype": "text/x-python",
   "name": "python",
   "nbconvert_exporter": "python",
   "pygments_lexer": "ipython3",
   "version": "3.9.7"
  }
 },
 "nbformat": 4,
 "nbformat_minor": 5
}

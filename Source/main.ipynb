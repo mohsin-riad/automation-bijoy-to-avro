{
 "cells": [
  {
   "cell_type": "markdown",
   "id": "f8380a46",
   "metadata": {},
   "source": [
    "# Bijoy to Unicode(Avro) Automation"
   ]
  },
  {
   "cell_type": "markdown",
   "id": "a0cd2eb7",
   "metadata": {},
   "source": [
    "## Required package installation"
   ]
  },
  {
   "cell_type": "code",
   "execution_count": 6,
   "id": "58dbae74",
   "metadata": {},
   "outputs": [],
   "source": [
    "# for one time installation\n",
    "# !pip install bijoytounicode\n",
    "# !pip install python-docx"
   ]
  },
  {
   "cell_type": "markdown",
   "id": "1fa6893b",
   "metadata": {},
   "source": [
    "## Importing Required Library"
   ]
  },
  {
   "cell_type": "code",
   "execution_count": 7,
   "id": "c872d728",
   "metadata": {},
   "outputs": [],
   "source": [
    "import pandas as pd\n",
    "from bijoytounicode import bijoy2unicode\n",
    "import docx\n",
    "import re  \n",
    "import os"
   ]
  },
  {
   "cell_type": "markdown",
   "id": "6f86dbd3",
   "metadata": {},
   "source": [
    "## Methods"
   ]
  },
  {
   "cell_type": "markdown",
   "id": "cec2977d",
   "metadata": {},
   "source": [
    "### Doc to Docx"
   ]
  },
  {
   "cell_type": "code",
   "execution_count": 14,
   "id": "445889ac",
   "metadata": {},
   "outputs": [],
   "source": [
    "# Bash commands are tested on Mac Os\n",
    "def covertDoc2Docx(path):\n",
    "    #alternative to cd path\n",
    "    os.chdir(path)\n",
    "    #Doc to Docx conversion\n",
    "    !textutil -convert docx *.doc\n",
    "    #Deletion of .doc files\n",
    "    !rm *.doc"
   ]
  },
  {
   "cell_type": "markdown",
   "id": "184d1097",
   "metadata": {},
   "source": [
    "### Creating Files/Directories"
   ]
  },
  {
   "cell_type": "code",
   "execution_count": 12,
   "id": "e5e81e4a",
   "metadata": {},
   "outputs": [],
   "source": [
    "def createFile(filename, page):\n",
    "    filename = filename.replace(\"Datasets\", \"Modified-Datasets\")\n",
    "    filename = filename.replace(\"docx\", \"txt\")\n",
    "    os.makedirs(os.path.dirname(filename), exist_ok=True)\n",
    "    with open(filename, \"w\") as f:\n",
    "        f.write(page)"
   ]
  },
  {
   "cell_type": "markdown",
   "id": "f7e6bc3b",
   "metadata": {},
   "source": [
    "### Ansi to unicode"
   ]
  },
  {
   "cell_type": "code",
   "execution_count": 13,
   "id": "91894254",
   "metadata": {},
   "outputs": [],
   "source": [
    "def convertToUnicode(path):\n",
    "    document =  docx.Document(path)\n",
    "    line = \"\"\n",
    "    for paragraph in document.paragraphs:\n",
    "        line += bijoy2unicode(paragraph.text)+'\\n'\n",
    "    createFile(path, line)"
   ]
  },
  {
   "cell_type": "markdown",
   "id": "406ea147",
   "metadata": {},
   "source": [
    "### Input the Target path/folder"
   ]
  },
  {
   "cell_type": "code",
   "execution_count": null,
   "id": "2d1fef75",
   "metadata": {},
   "outputs": [],
   "source": [
    "# Getting target folder path\n",
    "directory = input()\n",
    "# for example:\n",
    "# directory = '/Users/mohsinriad/Documents/MyUniverse/ML-DL/Thesis/Datasets/'"
   ]
  },
  {
   "cell_type": "markdown",
   "id": "6d2f49c0",
   "metadata": {},
   "source": [
    "## Conversion of File Format (doc to docx)"
   ]
  },
  {
   "cell_type": "markdown",
   "id": "6178ec50",
   "metadata": {},
   "source": [
    "> Dont run this if files are already in .docx format"
   ]
  },
  {
   "cell_type": "code",
   "execution_count": 80,
   "id": "46553216",
   "metadata": {},
   "outputs": [],
   "source": [
    "# iterate over files in this directory\n",
    "for root, dirs, files in os.walk(directory):\n",
    "    for filename in files:\n",
    "        if filename.endswith(\".doc\"):\n",
    "            covertDoc2Docx(root)\n",
    "            break"
   ]
  },
  {
   "cell_type": "markdown",
   "id": "62448796",
   "metadata": {},
   "source": [
    "## Conversion of Text Format "
   ]
  },
  {
   "cell_type": "code",
   "execution_count": 81,
   "id": "6f523fb9",
   "metadata": {},
   "outputs": [],
   "source": [
    "for root, dirs, files in os.walk(directory):\n",
    "    for filename in files:\n",
    "        if filename.endswith(\".docx\"):\n",
    "            convertToUnicode(os.path.join(root, filename))        "
   ]
  }
 ],
 "metadata": {
  "kernelspec": {
   "display_name": "Python 3 (ipykernel)",
   "language": "python",
   "name": "python3"
  },
  "language_info": {
   "codemirror_mode": {
    "name": "ipython",
    "version": 3
   },
   "file_extension": ".py",
   "mimetype": "text/x-python",
   "name": "python",
   "nbconvert_exporter": "python",
   "pygments_lexer": "ipython3",
   "version": "3.9.7"
  }
 },
 "nbformat": 4,
 "nbformat_minor": 5
}

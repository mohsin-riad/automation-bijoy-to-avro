{
 "cells": [
  {
   "cell_type": "markdown",
   "id": "2d0b5ece",
   "metadata": {},
   "source": [
    "# Pattern Search & CSV Creation"
   ]
  },
  {
   "cell_type": "markdown",
   "id": "8a57c72e",
   "metadata": {},
   "source": [
    "## Import Libraries"
   ]
  },
  {
   "cell_type": "code",
   "execution_count": 18,
   "id": "ddc77923",
   "metadata": {},
   "outputs": [],
   "source": [
    "import re\n",
    "import os\n",
    "import pandas as pd\n",
    "import numpy as np"
   ]
  },
  {
   "cell_type": "markdown",
   "id": "cbf25290",
   "metadata": {},
   "source": [
    "### global variable"
   ]
  },
  {
   "cell_type": "code",
   "execution_count": 19,
   "id": "424d93d2",
   "metadata": {},
   "outputs": [],
   "source": [
    "col1 = []\n",
    "col2 = []"
   ]
  },
  {
   "cell_type": "markdown",
   "id": "a70391b7",
   "metadata": {},
   "source": [
    "## Functions:"
   ]
  },
  {
   "cell_type": "markdown",
   "id": "f4cfb922",
   "metadata": {},
   "source": [
    "### Bn to En Number Conversion"
   ]
  },
  {
   "cell_type": "code",
   "execution_count": 20,
   "id": "af600814",
   "metadata": {},
   "outputs": [],
   "source": [
    "def BnToEn_Numbers(n):\n",
    "    enNumber = \"\"\n",
    "    numberDict = {'০':'0', '১':'1', '২':'2', '৩':'3', '৪':'4', '৫':'5', '৬':'6', '৭':'7', '৮':'8', '৯':'9'}\n",
    "    for i in n:\n",
    "        if i in numberDict:\n",
    "            enNumber += numberDict[i]\n",
    "            \n",
    "    return enNumber if enNumber else False"
   ]
  },
  {
   "cell_type": "markdown",
   "id": "c0dab038",
   "metadata": {},
   "source": [
    "### Path shortening"
   ]
  },
  {
   "cell_type": "code",
   "execution_count": 21,
   "id": "3d7089ca",
   "metadata": {},
   "outputs": [],
   "source": [
    "def pathShortner(path):\n",
    "    return path.replace(\"/Users/mohsinriad/Documents/MyUniverse/ML-DL/Thesis/Modified-Unannotated/\", \"\")"
   ]
  },
  {
   "cell_type": "markdown",
   "id": "ff002c3b",
   "metadata": {},
   "source": [
    "### Read txt Files To Detect Act"
   ]
  },
  {
   "cell_type": "code",
   "execution_count": 22,
   "id": "3a463461",
   "metadata": {},
   "outputs": [],
   "source": [
    "def readfile(file):\n",
    "    fg = True\n",
    "    temp = \"\"\n",
    "    with open(file, 'r') as f:\n",
    "        for line in f.readlines():\n",
    "            if fg == True:\n",
    "                line = re.split('ঃ-|ঃ|-|।|/|; |, |\\*|\\n| ',line)\n",
    "                for i in line:\n",
    "                    if i == 'ধারা':\n",
    "                        temp = line\n",
    "                        fg = False\n",
    "                        break\n",
    "            if fg == False:\n",
    "                break\n",
    "#     print(temp)\n",
    "    if len(temp):\n",
    "        acts = []\n",
    "        for i in temp:\n",
    "            num = BnToEn_Numbers(i)\n",
    "            if num != False and len(num) < 4:\n",
    "                acts.append(num)\n",
    "        return acts\n",
    "    else:\n",
    "        return False\n"
   ]
  },
  {
   "cell_type": "markdown",
   "id": "72708c77",
   "metadata": {},
   "source": [
    "### Insert Act and Path "
   ]
  },
  {
   "cell_type": "code",
   "execution_count": 23,
   "id": "103debcc",
   "metadata": {},
   "outputs": [],
   "source": [
    "def insert(path, act):\n",
    "    col1.append(act)\n",
    "    col2.append(path)"
   ]
  },
  {
   "cell_type": "markdown",
   "id": "ebd319d8",
   "metadata": {},
   "source": [
    "## Driver Code"
   ]
  },
  {
   "cell_type": "code",
   "execution_count": 24,
   "id": "1435a015",
   "metadata": {
    "scrolled": false
   },
   "outputs": [],
   "source": [
    "directory = '/Users/mohsinriad/Documents/MyUniverse/ML-DL/Thesis/Modified-Unannotated/From_Rahat/@Apply_folde'\n",
    " \n",
    "# iterate over files in this directory\n",
    "fg = True\n",
    "for root, dirs, files in os.walk(directory):\n",
    "    for filename in files:\n",
    "        if filename.endswith(\".txt\") and fg:\n",
    "            path = os.path.join(root, filename)\n",
    "            acts = readfile(path)\n",
    "            path = pathShortner(path)\n",
    "            if acts:\n",
    "                for act in acts:\n",
    "                    insert(path, act)\n",
    "\n",
    "col1 = np.array(col1, dtype='int32')\n",
    "col1 = col1.reshape(-1,1)\n",
    "col2 = np.array(col2)\n",
    "col2 = col2.reshape(-1,1)\n",
    "\n",
    "df = np.array([])\n",
    "df = np.append(col1, col2, axis=1)\n",
    "# df = df[df[:,0].argsort()]\n",
    "\n",
    "df = pd.DataFrame(df, columns = ['Act','Path'])\n",
    "df = df.sort_values('Act', ascending=True)\n",
    "df = df.reset_index(drop=True)\n",
    "df.to_csv('/Users/mohsinriad/Documents/MyUniverse/ML-DL/Thesis/Docs/DatasetInfo.csv')"
   ]
  },
  {
   "cell_type": "code",
   "execution_count": null,
   "id": "69afe81c",
   "metadata": {},
   "outputs": [],
   "source": []
  }
 ],
 "metadata": {
  "kernelspec": {
   "display_name": "Python 3 (ipykernel)",
   "language": "python",
   "name": "python3"
  },
  "language_info": {
   "codemirror_mode": {
    "name": "ipython",
    "version": 3
   },
   "file_extension": ".py",
   "mimetype": "text/x-python",
   "name": "python",
   "nbconvert_exporter": "python",
   "pygments_lexer": "ipython3",
   "version": "3.9.7"
  }
 },
 "nbformat": 4,
 "nbformat_minor": 5
}
